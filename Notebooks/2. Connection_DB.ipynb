{
 "cells": [
  {
   "cell_type": "markdown",
   "metadata": {},
   "source": [
    "#### Check to see if the connection to the timescale database is working\n"
   ]
  },
  {
   "cell_type": "code",
   "execution_count": 1,
   "metadata": {},
   "outputs": [],
   "source": [
    "import os\n",
    "from dotenv import load_dotenv\n",
    "from sqlalchemy import create_engine, text\n",
    "\n",
    "load_dotenv()\n",
    "PASSWORD = os.getenv(\"PGPASSWORD\")\n",
    "USER = os.getenv(\"PGUSER\")\n",
    "DB = os.getenv(\"PGDATABASE\")\n",
    "PORT = os.getenv(\"PGPORT\")\n",
    "HOST = os.getenv(\"PGHOST\")\n",
    "MODE = os.getenv(\"PGSSLMODE\")"
   ]
  },
  {
   "cell_type": "code",
   "execution_count": null,
   "metadata": {},
   "outputs": [],
   "source": [
    "CONNECTION = f\"timescaledb://{USER}:{PASSWORD}@{HOST}:{PORT}/{DB}?sslmode={MODE}\""
   ]
  },
  {
   "cell_type": "code",
   "execution_count": null,
   "metadata": {},
   "outputs": [
    {
     "name": "stdout",
     "output_type": "stream",
     "text": [
      "('plpgsql', '1.0')\n",
      "('pg_stat_statements', '1.10')\n",
      "('timescaledb', '2.17.2')\n",
      "('timescaledb_toolkit', '1.18.0')\n",
      "('postgres_fdw', '1.1')\n",
      "('pg_buffercache', '1.4')\n"
     ]
    }
   ],
   "source": [
    "engine = create_engine(CONNECTION)\n",
    "conn = engine.connect()\n",
    "cursor = conn.execute(text(\"select extname, extversion from pg_extension;\"))\n",
    "for extension in cursor:\n",
    "    print(extension)\n",
    "conn.close()"
   ]
  },
  {
   "cell_type": "markdown",
   "metadata": {},
   "source": [
    "#### Making a connection to the database and creating a table for the weather data\n"
   ]
  },
  {
   "cell_type": "code",
   "execution_count": null,
   "metadata": {},
   "outputs": [],
   "source": [
    "engine = create_engine(CONNECTION)\n",
    "conn = engine.connect()\n",
    "\n",
    "cursor = conn.execute(text(\"select extname, extversion from pg_extension;\"))\n",
    "for extension in cursor:\n",
    "    print(extension)\n",
    "\n",
    "# Drop the existing weather table\n",
    "drop_table_sql = \"DROP TABLE IF EXISTS weather;\"\n",
    "conn.execute(text(drop_table_sql))\n",
    "print(\"Existing weather table dropped.\")\n",
    "\n",
    "# Recreate the weather table\n",
    "create_table_sql = \"\"\"\n",
    "CREATE TABLE IF NOT EXISTS weather (\n",
    "    time        TIMESTAMPTZ NOT NULL,        -- Timestamp of the weather data\n",
    "    city_name   TEXT,                        -- Name of the city\n",
    "    condition   TEXT,                        -- Weather condition (e.g., \"Clear\", \"Cloudy\")\n",
    "    temperature FLOAT,                       -- Temperature (°C or °F based on units)\n",
    "    humidity    INTEGER,                     -- Humidity (percentage)\n",
    "    pressure    FLOAT,                       -- Atmospheric pressure (hPa)\n",
    "    rain        FLOAT,                       -- Rain volume (mm)\n",
    "    snow        FLOAT,                       -- Snow volume (mm)\n",
    "    wind_speed  FLOAT,                       -- Wind speed (m/s or miles/h)\n",
    "    wind_deg    FLOAT,                       -- Wind direction (degrees)\n",
    "    cloudiness  INTEGER,                     -- Cloudiness percentage\n",
    "    sunrise     BIGINT,                      -- Sunrise time in nanoseconds since Unix epoch\n",
    "    sunset      BIGINT,                      -- Sunset time in nanoseconds since Unix epoch\n",
    "    PRIMARY KEY (time, city_name)            -- Unique key based on city and time\n",
    ");\n",
    "\"\"\"\n",
    "\n",
    "# Execute the query to create the table\n",
    "conn.execute(text(create_table_sql))\n",
    "print(\"Weather table created successfully!\")\n",
    "\n",
    "# Convert to a hypertable\n",
    "create_hypertable_sql = \"\"\"\n",
    "SELECT create_hypertable('weather', 'time');\n",
    "\"\"\"\n",
    "conn.execute(text(create_hypertable_sql))\n",
    "print(\"Weather table converted to hypertable successfully!\")"
   ]
  },
  {
   "cell_type": "markdown",
   "metadata": {},
   "source": [
    "#### Checking total number of rows in the table\n"
   ]
  },
  {
   "cell_type": "code",
   "execution_count": null,
   "metadata": {},
   "outputs": [
    {
     "name": "stdout",
     "output_type": "stream",
     "text": [
      "Total number of rows in the weather table: 111160\n"
     ]
    }
   ],
   "source": [
    "# Create SQLAlchemy engine and connect\n",
    "engine = create_engine(CONNECTION)\n",
    "conn = engine.connect()\n",
    "\n",
    "count_rows_sql = \"SELECT COUNT(*) FROM weather;\"\n",
    "result = conn.execute(text(count_rows_sql)).fetchone()\n",
    "print(f\"Total number of rows in the weather table: {result[0]}\")\n",
    "\n",
    "# Close the connection\n",
    "conn.close()"
   ]
  }
 ],
 "metadata": {
  "kernelspec": {
   "display_name": "mlp",
   "language": "python",
   "name": "python3"
  },
  "language_info": {
   "codemirror_mode": {
    "name": "ipython",
    "version": 3
   },
   "file_extension": ".py",
   "mimetype": "text/x-python",
   "name": "python",
   "nbconvert_exporter": "python",
   "pygments_lexer": "ipython3",
   "version": "3.9.18"
  }
 },
 "nbformat": 4,
 "nbformat_minor": 2
}

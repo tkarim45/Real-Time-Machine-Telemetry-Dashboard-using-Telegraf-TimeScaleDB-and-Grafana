{
 "cells": [
  {
   "cell_type": "markdown",
   "metadata": {},
   "source": [
    "#### Install Libraries\n"
   ]
  },
  {
   "cell_type": "code",
   "execution_count": null,
   "metadata": {},
   "outputs": [],
   "source": [
    "! pip install SQLAlchemy psycopg2 sqlalchemy-timescaledb"
   ]
  },
  {
   "cell_type": "markdown",
   "metadata": {},
   "source": [
    "#### Import Libraries\n"
   ]
  },
  {
   "cell_type": "code",
   "execution_count": 1,
   "metadata": {},
   "outputs": [],
   "source": [
    "import requests\n",
    "import pandas as pd\n",
    "from datetime import datetime, timezone\n",
    "import psycopg2\n",
    "import time\n",
    "from dotenv import load_dotenv\n",
    "import os\n",
    "\n",
    "load_dotenv()\n",
    "OPENWEATHER_API_KEY = os.getenv(\"OPENWEATHER_API_KEY\")"
   ]
  },
  {
   "cell_type": "markdown",
   "metadata": {},
   "source": [
    "#### Configuration\n"
   ]
  },
  {
   "cell_type": "code",
   "execution_count": 2,
   "metadata": {},
   "outputs": [],
   "source": [
    "CITY_IDS = [\n",
    "    \"1172451\",\n",
    "    \"1174872\",\n",
    "    \"1162015\",\n",
    "    \"1174042\",\n",
    "    \"1169684\",\n",
    "    \"1176734\",\n",
    "    \"1177662\",\n",
    "    \"1177446\",\n",
    "    \"1185056\",\n",
    "    \"1184196\",\n",
    "]\n",
    "BASE_URL = \"http://api.openweathermap.org/data/2.5/weather\""
   ]
  },
  {
   "cell_type": "markdown",
   "metadata": {},
   "source": [
    "#### Fetch/Process Weather Data\n"
   ]
  },
  {
   "cell_type": "code",
   "execution_count": 3,
   "metadata": {},
   "outputs": [],
   "source": [
    "# Fetch real-time weather data for a single city\n",
    "def fetch_current_weather(city_id):\n",
    "    params = {\"id\": city_id, \"appid\": OPENWEATHER_API_KEY, \"units\": \"metric\"}\n",
    "    response = requests.get(BASE_URL, params=params)\n",
    "    response.raise_for_status()\n",
    "    return response.json()"
   ]
  },
  {
   "cell_type": "code",
   "execution_count": null,
   "metadata": {},
   "outputs": [
    {
     "data": {
      "text/plain": [
       "{'coord': {'lon': 73.9104, 'lat': 33.9472},\n",
       " 'weather': [{'id': 800,\n",
       "   'main': 'Clear',\n",
       "   'description': 'clear sky',\n",
       "   'icon': '01d'}],\n",
       " 'base': 'stations',\n",
       " 'main': {'temp': 3.96,\n",
       "  'feels_like': 0.67,\n",
       "  'temp_min': 3.96,\n",
       "  'temp_max': 3.96,\n",
       "  'pressure': 1019,\n",
       "  'humidity': 30,\n",
       "  'sea_level': 1019,\n",
       "  'grnd_level': 811},\n",
       " 'visibility': 10000,\n",
       " 'wind': {'speed': 3.86, 'deg': 47, 'gust': 4.65},\n",
       " 'clouds': {'all': 0},\n",
       " 'dt': 1732677217,\n",
       " 'sys': {'country': 'PK', 'sunrise': 1732672093, 'sunset': 1732708574},\n",
       " 'timezone': 18000,\n",
       " 'id': 1184196,\n",
       " 'name': 'Azad Kashmir',\n",
       " 'cod': 200}"
      ]
     },
     "execution_count": 4,
     "metadata": {},
     "output_type": "execute_result"
    }
   ],
   "source": [
    "weather_data = fetch_current_weather(1184196)\n",
    "weather_data"
   ]
  },
  {
   "cell_type": "code",
   "execution_count": 4,
   "metadata": {},
   "outputs": [],
   "source": [
    "# Process and extract the required fields from the API response\n",
    "def process_weather_data(weather_data):\n",
    "    return {\n",
    "        \"city_id\": weather_data[\"id\"],\n",
    "        \"city_name\": weather_data[\"name\"],\n",
    "        \"forecast_time\": datetime.fromtimestamp(weather_data[\"dt\"], timezone.utc),\n",
    "        \"condition_id\": weather_data[\"weather\"][0][\"id\"],\n",
    "        \"condition_main\": weather_data[\"weather\"][0][\"main\"],\n",
    "        \"condition_description\": weather_data[\"weather\"][0][\"description\"],\n",
    "        \"condition_icon\": weather_data[\"weather\"][0][\"icon\"],\n",
    "        \"temperature\": weather_data[\"main\"][\"temp\"],\n",
    "        \"feels_like\": weather_data[\"main\"][\"feels_like\"],\n",
    "        \"humidity\": weather_data[\"main\"][\"humidity\"],\n",
    "        \"pressure\": weather_data[\"main\"][\"pressure\"],\n",
    "        \"cloudiness\": weather_data[\"clouds\"][\"all\"],\n",
    "        \"visibility\": weather_data.get(\"visibility\", None),\n",
    "        \"wind_speed\": weather_data[\"wind\"][\"speed\"],\n",
    "        \"wind_degrees\": weather_data[\"wind\"].get(\"deg\", None),\n",
    "        \"rain\": weather_data.get(\"rain\", {}).get(\"1h\", 0.0),  # Rain in the last 1 hour\n",
    "        \"snow\": weather_data.get(\"snow\", {}).get(\"1h\", 0.0),  # Snow in the last 1 hour\n",
    "        \"sunrise\": datetime.fromtimestamp(weather_data[\"sys\"][\"sunrise\"], timezone.utc),\n",
    "        \"sunset\": datetime.fromtimestamp(weather_data[\"sys\"][\"sunset\"], timezone.utc),\n",
    "    }"
   ]
  },
  {
   "cell_type": "code",
   "execution_count": null,
   "metadata": {},
   "outputs": [
    {
     "name": "stdout",
     "output_type": "stream",
     "text": [
      "Fetching data for city ID: 1172451...\n",
      "Fetching data for city ID: 1174872...\n",
      "Fetching data for city ID: 1162015...\n",
      "Fetching data for city ID: 1174042...\n",
      "Fetching data for city ID: 1169684...\n",
      "Fetching data for city ID: 1176734...\n",
      "Fetching data for city ID: 1177662...\n",
      "Fetching data for city ID: 1177446...\n",
      "Fetching data for city ID: 1185056...\n",
      "Fetching data for city ID: 1184196...\n",
      "Data fetching completed!\n",
      "   city_id  city_name             forecast_time  condition_id condition_main  \\\n",
      "0  1172451     Lahore 2024-11-25 11:51:58+00:00           800          Clear   \n",
      "1  1174872    Karachi 2024-11-25 11:50:54+00:00           721           Haze   \n",
      "2  1162015  Islamabad 2024-11-25 11:54:12+00:00           800          Clear   \n",
      "3  1174042    Kharian 2024-11-25 11:56:10+00:00           800          Clear   \n",
      "4  1169684     Murree 2024-11-25 11:56:11+00:00           800          Clear   \n",
      "\n",
      "  condition_description condition_icon  temperature  feels_like  humidity  \\\n",
      "0             clear sky            01d        24.99       24.54        38   \n",
      "1                  haze            50d        29.90       28.66        30   \n",
      "2             clear sky            01d        21.02       20.33        44   \n",
      "3             clear sky            01d        21.39       20.34        29   \n",
      "4             clear sky            01d        10.69        8.86        40   \n",
      "\n",
      "   pressure  cloudiness  visibility  wind_speed  wind_degrees  rain  snow  \\\n",
      "0      1013           0        6000        3.09           270   0.0   0.0   \n",
      "1      1013           0        4000        3.60           240   0.0   0.0   \n",
      "2      1014           0       10000        2.52           299   0.0   0.0   \n",
      "3      1013           0       10000        2.62           289   0.0   0.0   \n",
      "4      1015           0       10000        1.39           270   0.0   0.0   \n",
      "\n",
      "                    sunrise                    sunset  \n",
      "0 2024-11-25 01:39:29+00:00 2024-11-25 12:00:12+00:00  \n",
      "1 2024-11-25 01:55:32+00:00 2024-11-25 12:42:15+00:00  \n",
      "2 2024-11-25 01:48:58+00:00 2024-11-25 12:00:24+00:00  \n",
      "3 2024-11-25 01:44:06+00:00 2024-11-25 11:59:26+00:00  \n",
      "4 2024-11-25 01:48:22+00:00 2024-11-25 11:58:56+00:00  \n",
      "Data saved to current_weather_details.csv\n"
     ]
    },
    {
     "ename": "KeyboardInterrupt",
     "evalue": "",
     "output_type": "error",
     "traceback": [
      "\u001b[0;31m---------------------------------------------------------------------------\u001b[0m",
      "\u001b[0;31mKeyboardInterrupt\u001b[0m                         Traceback (most recent call last)",
      "Cell \u001b[0;32mIn[5], line 22\u001b[0m\n\u001b[1;32m     19\u001b[0m \u001b[38;5;28mprint\u001b[39m(\u001b[38;5;124m\"\u001b[39m\u001b[38;5;124mData saved to current_weather_details.csv\u001b[39m\u001b[38;5;124m\"\u001b[39m)\n\u001b[1;32m     21\u001b[0m \u001b[38;5;66;03m# Wait for 1 minute (60 seconds) before the next fetch\u001b[39;00m\n\u001b[0;32m---> 22\u001b[0m \u001b[43mtime\u001b[49m\u001b[38;5;241;43m.\u001b[39;49m\u001b[43msleep\u001b[49m\u001b[43m(\u001b[49m\u001b[38;5;241;43m60\u001b[39;49m\u001b[43m)\u001b[49m  \u001b[38;5;66;03m# Delay for 60 seconds (1 minute)\u001b[39;00m\n",
      "\u001b[0;31mKeyboardInterrupt\u001b[0m: "
     ]
    }
   ],
   "source": [
    "while True:\n",
    "    weather_records = []\n",
    "\n",
    "    for city_id in CITY_IDS:\n",
    "        print(f\"Fetching data for city ID: {city_id}...\")\n",
    "        weather_data = fetch_current_weather(city_id)\n",
    "        processed_data = process_weather_data(\n",
    "            weather_data\n",
    "        )  # Process and extract fields\n",
    "        weather_records.append(processed_data)\n",
    "\n",
    "    df = pd.DataFrame(weather_records)\n",
    "    print(\"Data fetching completed!\")\n",
    "    print(df.head())\n",
    "\n",
    "    # Save DataFrame to a CSV file (appending data)\n",
    "    df.to_csv(\"current_weather_details.csv\", mode=\"a\", header=False, index=False)\n",
    "    print(\"Data saved to current_weather_details.csv\")\n",
    "\n",
    "    # Wait for 1 minute (60 seconds) before the next fetch\n",
    "    time.sleep(60)"
   ]
  },
  {
   "cell_type": "code",
   "execution_count": null,
   "metadata": {},
   "outputs": [],
   "source": []
  }
 ],
 "metadata": {
  "kernelspec": {
   "display_name": "mlp",
   "language": "python",
   "name": "python3"
  },
  "language_info": {
   "codemirror_mode": {
    "name": "ipython",
    "version": 3
   },
   "file_extension": ".py",
   "mimetype": "text/x-python",
   "name": "python",
   "nbconvert_exporter": "python",
   "pygments_lexer": "ipython3",
   "version": "3.9.18"
  }
 },
 "nbformat": 4,
 "nbformat_minor": 2
}
